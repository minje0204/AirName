{
 "cells": [
  {
   "cell_type": "code",
   "execution_count": 1,
   "id": "3739e53c-f192-45e3-bcd1-85157897c935",
   "metadata": {},
   "outputs": [],
   "source": [
    "import numpy as np # linear algebra\n",
    "import pandas as pd # data processing, CSV file I/O (e.g. pd.read_csv)\n",
    "import matplotlib\n",
    "import matplotlib.pyplot as plt # for plotting\n"
   ]
  },
  {
   "cell_type": "code",
   "execution_count": 2,
   "id": "3e251347-86ef-4dee-84db-58da0bcc8e06",
   "metadata": {},
   "outputs": [],
   "source": [
    "csvTest = pd.read_csv('C:/Users/SSAFY/name_state.xls',sep=',')\n"
   ]
  },
  {
   "cell_type": "markdown",
   "id": "d7eead5b-cbe6-4f47-9cc9-f72c0b1ef21f",
   "metadata": {},
   "source": [
    "# 주, 연도(1910~2020),빈도수 엑셀 파일 분석"
   ]
  },
  {
   "cell_type": "code",
   "execution_count": 129,
   "id": "14dbb95f-1a0b-4466-b8f5-1ee3ec7f7cf5",
   "metadata": {},
   "outputs": [
    {
     "data": {
      "text/html": [
       "<div>\n",
       "<style scoped>\n",
       "    .dataframe tbody tr th:only-of-type {\n",
       "        vertical-align: middle;\n",
       "    }\n",
       "\n",
       "    .dataframe tbody tr th {\n",
       "        vertical-align: top;\n",
       "    }\n",
       "\n",
       "    .dataframe thead th {\n",
       "        text-align: right;\n",
       "    }\n",
       "</style>\n",
       "<table border=\"1\" class=\"dataframe\">\n",
       "  <thead>\n",
       "    <tr style=\"text-align: right;\">\n",
       "      <th></th>\n",
       "      <th>Unnamed: 0</th>\n",
       "      <th>state</th>\n",
       "      <th>gender</th>\n",
       "      <th>year</th>\n",
       "      <th>name</th>\n",
       "      <th>count</th>\n",
       "    </tr>\n",
       "  </thead>\n",
       "  <tbody>\n",
       "    <tr>\n",
       "      <th>0</th>\n",
       "      <td>0</td>\n",
       "      <td>AK</td>\n",
       "      <td>F</td>\n",
       "      <td>1910</td>\n",
       "      <td>Mary</td>\n",
       "      <td>14</td>\n",
       "    </tr>\n",
       "    <tr>\n",
       "      <th>1</th>\n",
       "      <td>1</td>\n",
       "      <td>AK</td>\n",
       "      <td>F</td>\n",
       "      <td>1910</td>\n",
       "      <td>Annie</td>\n",
       "      <td>12</td>\n",
       "    </tr>\n",
       "    <tr>\n",
       "      <th>2</th>\n",
       "      <td>2</td>\n",
       "      <td>AK</td>\n",
       "      <td>F</td>\n",
       "      <td>1910</td>\n",
       "      <td>Anna</td>\n",
       "      <td>10</td>\n",
       "    </tr>\n",
       "    <tr>\n",
       "      <th>3</th>\n",
       "      <td>3</td>\n",
       "      <td>AK</td>\n",
       "      <td>F</td>\n",
       "      <td>1910</td>\n",
       "      <td>Margaret</td>\n",
       "      <td>8</td>\n",
       "    </tr>\n",
       "    <tr>\n",
       "      <th>4</th>\n",
       "      <td>4</td>\n",
       "      <td>AK</td>\n",
       "      <td>F</td>\n",
       "      <td>1910</td>\n",
       "      <td>Helen</td>\n",
       "      <td>7</td>\n",
       "    </tr>\n",
       "    <tr>\n",
       "      <th>...</th>\n",
       "      <td>...</td>\n",
       "      <td>...</td>\n",
       "      <td>...</td>\n",
       "      <td>...</td>\n",
       "      <td>...</td>\n",
       "      <td>...</td>\n",
       "    </tr>\n",
       "    <tr>\n",
       "      <th>6311499</th>\n",
       "      <td>6311499</td>\n",
       "      <td>WY</td>\n",
       "      <td>M</td>\n",
       "      <td>2021</td>\n",
       "      <td>Santiago</td>\n",
       "      <td>5</td>\n",
       "    </tr>\n",
       "    <tr>\n",
       "      <th>6311500</th>\n",
       "      <td>6311500</td>\n",
       "      <td>WY</td>\n",
       "      <td>M</td>\n",
       "      <td>2021</td>\n",
       "      <td>Spencer</td>\n",
       "      <td>5</td>\n",
       "    </tr>\n",
       "    <tr>\n",
       "      <th>6311501</th>\n",
       "      <td>6311501</td>\n",
       "      <td>WY</td>\n",
       "      <td>M</td>\n",
       "      <td>2021</td>\n",
       "      <td>Tate</td>\n",
       "      <td>5</td>\n",
       "    </tr>\n",
       "    <tr>\n",
       "      <th>6311502</th>\n",
       "      <td>6311502</td>\n",
       "      <td>WY</td>\n",
       "      <td>M</td>\n",
       "      <td>2021</td>\n",
       "      <td>Timothy</td>\n",
       "      <td>5</td>\n",
       "    </tr>\n",
       "    <tr>\n",
       "      <th>6311503</th>\n",
       "      <td>6311503</td>\n",
       "      <td>WY</td>\n",
       "      <td>M</td>\n",
       "      <td>2021</td>\n",
       "      <td>Tucker</td>\n",
       "      <td>5</td>\n",
       "    </tr>\n",
       "  </tbody>\n",
       "</table>\n",
       "<p>6311504 rows × 6 columns</p>\n",
       "</div>"
      ],
      "text/plain": [
       "         Unnamed: 0 state gender  year      name  count\n",
       "0                 0    AK      F  1910      Mary     14\n",
       "1                 1    AK      F  1910     Annie     12\n",
       "2                 2    AK      F  1910      Anna     10\n",
       "3                 3    AK      F  1910  Margaret      8\n",
       "4                 4    AK      F  1910     Helen      7\n",
       "...             ...   ...    ...   ...       ...    ...\n",
       "6311499     6311499    WY      M  2021  Santiago      5\n",
       "6311500     6311500    WY      M  2021   Spencer      5\n",
       "6311501     6311501    WY      M  2021      Tate      5\n",
       "6311502     6311502    WY      M  2021   Timothy      5\n",
       "6311503     6311503    WY      M  2021    Tucker      5\n",
       "\n",
       "[6311504 rows x 6 columns]"
      ]
     },
     "execution_count": 129,
     "metadata": {},
     "output_type": "execute_result"
    }
   ],
   "source": [
    "csvTest"
   ]
  },
  {
   "cell_type": "code",
   "execution_count": 5,
   "id": "6b247e09-28f2-4f59-a636-b185fb81694e",
   "metadata": {},
   "outputs": [
    {
     "data": {
      "text/plain": [
       "(6215834, 5)"
      ]
     },
     "execution_count": 5,
     "metadata": {},
     "output_type": "execute_result"
    }
   ],
   "source": [
    "csvTest.shape"
   ]
  },
  {
   "cell_type": "markdown",
   "id": "cac410b5-86f3-4a3f-b9f7-b5d58b71a2e7",
   "metadata": {},
   "source": [
    "## null, nan값 있는지 체크\n",
    "   - null 값이 없다면? false\n",
    "   - nan 값이 없다면? false"
   ]
  },
  {
   "cell_type": "code",
   "execution_count": 47,
   "id": "e4740e83-11be-49da-b5fa-361233f595e4",
   "metadata": {},
   "outputs": [
    {
     "data": {
      "text/plain": [
       "False"
      ]
     },
     "execution_count": 47,
     "metadata": {},
     "output_type": "execute_result"
    }
   ],
   "source": [
    "csvTest.isnull().values.any()"
   ]
  },
  {
   "cell_type": "code",
   "execution_count": 48,
   "id": "be7d1666-17cd-49ad-90a8-a9d3795f1bb8",
   "metadata": {},
   "outputs": [
    {
     "data": {
      "text/plain": [
       "False"
      ]
     },
     "execution_count": 48,
     "metadata": {},
     "output_type": "execute_result"
    }
   ],
   "source": [
    "csvTest.isna().values.any()"
   ]
  },
  {
   "cell_type": "markdown",
   "id": "b5922750-b806-4cdd-9fde-75d256b44651",
   "metadata": {
    "tags": []
   },
   "source": [
    "## 1) 미국 주"
   ]
  },
  {
   "cell_type": "markdown",
   "id": "5842fbb8-8504-4615-b426-8aa225d1155a",
   "metadata": {},
   "source": [
    "## 개수"
   ]
  },
  {
   "cell_type": "code",
   "execution_count": 49,
   "id": "582ea8bf-dcde-4384-88be-e619741d7c64",
   "metadata": {},
   "outputs": [
    {
     "data": {
      "text/plain": [
       "51"
      ]
     },
     "execution_count": 49,
     "metadata": {},
     "output_type": "execute_result"
    }
   ],
   "source": [
    "csvTest['state'].drop_duplicates().count()"
   ]
  },
  {
   "cell_type": "markdown",
   "id": "14dd66a4-88ae-4896-b706-deee2c00dc69",
   "metadata": {},
   "source": [
    "## 주 종류"
   ]
  },
  {
   "cell_type": "code",
   "execution_count": 55,
   "id": "e35f81e1-ec40-4f83-b1b9-72202bd626ca",
   "metadata": {},
   "outputs": [
    {
     "data": {
      "text/plain": [
       "0          AK\n",
       "29755      AL\n",
       "169048     AR\n",
       "274421     AZ\n",
       "396506     CA\n",
       "797268     CO\n",
       "910254     CT\n",
       "995202     DC\n",
       "1052467    DE\n",
       "1086173    FL\n",
       "1304365    GA\n",
       "1495732    HI\n",
       "1551801    IA\n",
       "1649316    ID\n",
       "1709761    IL\n",
       "1947600    IN\n",
       "2092957    KS\n",
       "2190796    KY\n",
       "2313404    LA\n",
       "2467116    MA\n",
       "2590674    MD\n",
       "2707373    ME\n",
       "2759225    MI\n",
       "2949248    MN\n",
       "3068558    MO\n",
       "3212694    MS\n",
       "3330010    MT\n",
       "3377154    NC\n",
       "3558801    ND\n",
       "3606467    NE\n",
       "3681166    NH\n",
       "3721723    NJ\n",
       "3881418    NM\n",
       "3959173    NV\n",
       "4010002    NY\n",
       "4319534    OH\n",
       "4523699    OK\n",
       "4645164    OR\n",
       "4737574    PA\n",
       "4944518    RI\n",
       "4986058    SC\n",
       "5108585    SD\n",
       "5157450    TN\n",
       "5304662    TX\n",
       "5673649    UT\n",
       "5767413    VA\n",
       "5921813    VT\n",
       "5951296    WA\n",
       "6082105    WI\n",
       "6203503    WV\n",
       "6282753    WY\n",
       "Name: state, dtype: object"
      ]
     },
     "execution_count": 55,
     "metadata": {},
     "output_type": "execute_result"
    }
   ],
   "source": [
    "csvTest['state'].drop_duplicates()"
   ]
  },
  {
   "cell_type": "markdown",
   "id": "411a4fda-5ad5-4a9c-a1d5-c4890e791684",
   "metadata": {},
   "source": [
    "## 남녀 비율"
   ]
  },
  {
   "cell_type": "code",
   "execution_count": 52,
   "id": "0f5effe8-715e-4512-9c55-49d4f28ed2c6",
   "metadata": {},
   "outputs": [
    {
     "data": {
      "text/plain": [
       "(array([0, 1]), [Text(0, 0, 'F'), Text(1, 0, 'M')])"
      ]
     },
     "execution_count": 52,
     "metadata": {},
     "output_type": "execute_result"
    },
    {
     "data": {
      "image/png": "[encoded data removed]",
      "text/plain": [
       "<Figure size 432x288 with 1 Axes>"
      ]
     },
     "metadata": {
      "needs_background": "light"
     },
     "output_type": "display_data"
    }
   ],
   "source": [
    "\n",
    "csvTest.groupby('gender')['gender'].count().plot.bar()\n",
    "plt.xticks(rotation = 0)"
   ]
  },
  {
   "cell_type": "markdown",
   "id": "7cabf876-9659-4446-af7b-4a48c090eb50",
   "metadata": {},
   "source": [
    "## 인구 수가 많은 5개의 도시"
   ]
  },
  {
   "cell_type": "code",
   "execution_count": 61,
   "id": "293b2b35-f2b3-4548-85b4-c6d2ab3919ac",
   "metadata": {},
   "outputs": [
    {
     "data": {
      "text/plain": [
       "state\n",
       "CA    400762\n",
       "TX    368987\n",
       "NY    309532\n",
       "IL    237839\n",
       "FL    218192\n",
       "Name: state, dtype: int64"
      ]
     },
     "execution_count": 61,
     "metadata": {},
     "output_type": "execute_result"
    }
   ],
   "source": [
    "city = csvTest.groupby('state')['state'].count().sort_values(ascending=False).head()\n",
    "city"
   ]
  },
  {
   "cell_type": "markdown",
   "id": "d9b1af62-df2f-45e2-89ae-d0a3dfe72e4b",
   "metadata": {},
   "source": [
    "## 주 별 이름 개수"
   ]
  },
  {
   "cell_type": "code",
   "execution_count": 31,
   "id": "bd4e977f-dbe2-455a-b215-a652e43bfb69",
   "metadata": {},
   "outputs": [
    {
     "data": {
      "text/plain": [
       "(array([ 0,  1,  2,  3,  4,  5,  6,  7,  8,  9, 10, 11, 12, 13, 14, 15, 16,\n",
       "        17, 18, 19, 20, 21, 22, 23, 24, 25, 26, 27, 28, 29, 30, 31, 32, 33,\n",
       "        34, 35, 36, 37, 38, 39, 40, 41, 42, 43, 44, 45, 46, 47, 48, 49, 50]),\n",
       " [Text(0, 0, 'AK'),\n",
       "  Text(1, 0, 'AL'),\n",
       "  Text(2, 0, 'AR'),\n",
       "  Text(3, 0, 'AZ'),\n",
       "  Text(4, 0, 'CA'),\n",
       "  Text(5, 0, 'CO'),\n",
       "  Text(6, 0, 'CT'),\n",
       "  Text(7, 0, 'DC'),\n",
       "  Text(8, 0, 'DE'),\n",
       "  Text(9, 0, 'FL'),\n",
       "  Text(10, 0, 'GA'),\n",
       "  Text(11, 0, 'HI'),\n",
       "  Text(12, 0, 'IA'),\n",
       "  Text(13, 0, 'ID'),\n",
       "  Text(14, 0, 'IL'),\n",
       "  Text(15, 0, 'IN'),\n",
       "  Text(16, 0, 'KS'),\n",
       "  Text(17, 0, 'KY'),\n",
       "  Text(18, 0, 'LA'),\n",
       "  Text(19, 0, 'MA'),\n",
       "  Text(20, 0, 'MD'),\n",
       "  Text(21, 0, 'ME'),\n",
       "  Text(22, 0, 'MI'),\n",
       "  Text(23, 0, 'MN'),\n",
       "  Text(24, 0, 'MO'),\n",
       "  Text(25, 0, 'MS'),\n",
       "  Text(26, 0, 'MT'),\n",
       "  Text(27, 0, 'NC'),\n",
       "  Text(28, 0, 'ND'),\n",
       "  Text(29, 0, 'NE'),\n",
       "  Text(30, 0, 'NH'),\n",
       "  Text(31, 0, 'NJ'),\n",
       "  Text(32, 0, 'NM'),\n",
       "  Text(33, 0, 'NV'),\n",
       "  Text(34, 0, 'NY'),\n",
       "  Text(35, 0, 'OH'),\n",
       "  Text(36, 0, 'OK'),\n",
       "  Text(37, 0, 'OR'),\n",
       "  Text(38, 0, 'PA'),\n",
       "  Text(39, 0, 'RI'),\n",
       "  Text(40, 0, 'SC'),\n",
       "  Text(41, 0, 'SD'),\n",
       "  Text(42, 0, 'TN'),\n",
       "  Text(43, 0, 'TX'),\n",
       "  Text(44, 0, 'UT'),\n",
       "  Text(45, 0, 'VA'),\n",
       "  Text(46, 0, 'VT'),\n",
       "  Text(47, 0, 'WA'),\n",
       "  Text(48, 0, 'WI'),\n",
       "  Text(49, 0, 'WV'),\n",
       "  Text(50, 0, 'WY')])"
      ]
     },
     "execution_count": 31,
     "metadata": {},
     "output_type": "execute_result"
    },
    {
     "data": {
      "image/png": "[encoded data removed]",
      "text/plain": [
       "<Figure size 1440x360 with 1 Axes>"
      ]
     },
     "metadata": {
      "needs_background": "light"
     },
     "output_type": "display_data"
    }
   ],
   "source": [
    "plt.figure(figsize=(20,5))\n",
    "csvTest.groupby('state')['state'].count().plot.bar()\n",
    "plt.xticks(rotation = 0)"
   ]
  },
  {
   "cell_type": "markdown",
   "id": "90d3a678-5a5c-4662-8bf8-e3acc191d0c6",
   "metadata": {},
   "source": [
    "## 1950년~2020년 CA에서 인기많은 이름"
   ]
  },
  {
   "cell_type": "code",
   "execution_count": 104,
   "id": "ed26e9d0-4c0f-4302-9773-1f5c6ef5bae9",
   "metadata": {},
   "outputs": [
    {
     "data": {
      "text/html": [
       "<div>\n",
       "<style scoped>\n",
       "    .dataframe tbody tr th:only-of-type {\n",
       "        vertical-align: middle;\n",
       "    }\n",
       "\n",
       "    .dataframe tbody tr th {\n",
       "        vertical-align: top;\n",
       "    }\n",
       "\n",
       "    .dataframe thead th {\n",
       "        text-align: right;\n",
       "    }\n",
       "</style>\n",
       "<table border=\"1\" class=\"dataframe\">\n",
       "  <thead>\n",
       "    <tr style=\"text-align: right;\">\n",
       "      <th></th>\n",
       "      <th>Unnamed: 0</th>\n",
       "      <th>state</th>\n",
       "      <th>gender</th>\n",
       "      <th>year</th>\n",
       "      <th>name</th>\n",
       "      <th>count</th>\n",
       "    </tr>\n",
       "  </thead>\n",
       "  <tbody>\n",
       "    <tr>\n",
       "      <th>654215</th>\n",
       "      <td>654215</td>\n",
       "      <td>CA</td>\n",
       "      <td>M</td>\n",
       "      <td>1950</td>\n",
       "      <td>Robert</td>\n",
       "      <td>6037</td>\n",
       "    </tr>\n",
       "    <tr>\n",
       "      <th>654216</th>\n",
       "      <td>654216</td>\n",
       "      <td>CA</td>\n",
       "      <td>M</td>\n",
       "      <td>1950</td>\n",
       "      <td>Michael</td>\n",
       "      <td>5533</td>\n",
       "    </tr>\n",
       "    <tr>\n",
       "      <th>424028</th>\n",
       "      <td>424028</td>\n",
       "      <td>CA</td>\n",
       "      <td>F</td>\n",
       "      <td>1950</td>\n",
       "      <td>Linda</td>\n",
       "      <td>5388</td>\n",
       "    </tr>\n",
       "    <tr>\n",
       "      <th>654217</th>\n",
       "      <td>654217</td>\n",
       "      <td>CA</td>\n",
       "      <td>M</td>\n",
       "      <td>1950</td>\n",
       "      <td>John</td>\n",
       "      <td>5347</td>\n",
       "    </tr>\n",
       "    <tr>\n",
       "      <th>654218</th>\n",
       "      <td>654218</td>\n",
       "      <td>CA</td>\n",
       "      <td>M</td>\n",
       "      <td>1950</td>\n",
       "      <td>David</td>\n",
       "      <td>4853</td>\n",
       "    </tr>\n",
       "  </tbody>\n",
       "</table>\n",
       "</div>"
      ],
      "text/plain": [
       "        Unnamed: 0 state gender  year     name  count\n",
       "654215      654215    CA      M  1950   Robert   6037\n",
       "654216      654216    CA      M  1950  Michael   5533\n",
       "424028      424028    CA      F  1950    Linda   5388\n",
       "654217      654217    CA      M  1950     John   5347\n",
       "654218      654218    CA      M  1950    David   4853"
      ]
     },
     "execution_count": 104,
     "metadata": {},
     "output_type": "execute_result"
    }
   ],
   "source": [
    "isin_CA = csvTest[\"state\"].isin([\"CA\"])\n",
    "dataCA = csvTest.loc[isin_CA]\n",
    "isin_1950 = dataCA[\"year\"].isin([1950])\n",
    "dataCA.loc[isin_1950].sort_values(by=\"count\",ascending=False).head()"
   ]
  },
  {
   "cell_type": "code",
   "execution_count": 108,
   "id": "99639daf-ed0d-4d80-b400-c426fb0c5a3d",
   "metadata": {},
   "outputs": [
    {
     "data": {
      "text/html": [
       "<div>\n",
       "<style scoped>\n",
       "    .dataframe tbody tr th:only-of-type {\n",
       "        vertical-align: middle;\n",
       "    }\n",
       "\n",
       "    .dataframe tbody tr th {\n",
       "        vertical-align: top;\n",
       "    }\n",
       "\n",
       "    .dataframe thead th {\n",
       "        text-align: right;\n",
       "    }\n",
       "</style>\n",
       "<table border=\"1\" class=\"dataframe\">\n",
       "  <thead>\n",
       "    <tr style=\"text-align: right;\">\n",
       "      <th></th>\n",
       "      <th>Unnamed: 0</th>\n",
       "      <th>state</th>\n",
       "      <th>gender</th>\n",
       "      <th>year</th>\n",
       "      <th>name</th>\n",
       "      <th>count</th>\n",
       "    </tr>\n",
       "  </thead>\n",
       "  <tbody>\n",
       "    <tr>\n",
       "      <th>664027</th>\n",
       "      <td>664027</td>\n",
       "      <td>CA</td>\n",
       "      <td>M</td>\n",
       "      <td>1960</td>\n",
       "      <td>David</td>\n",
       "      <td>7919</td>\n",
       "    </tr>\n",
       "    <tr>\n",
       "      <th>664028</th>\n",
       "      <td>664028</td>\n",
       "      <td>CA</td>\n",
       "      <td>M</td>\n",
       "      <td>1960</td>\n",
       "      <td>Michael</td>\n",
       "      <td>7390</td>\n",
       "    </tr>\n",
       "    <tr>\n",
       "      <th>664029</th>\n",
       "      <td>664029</td>\n",
       "      <td>CA</td>\n",
       "      <td>M</td>\n",
       "      <td>1960</td>\n",
       "      <td>John</td>\n",
       "      <td>6530</td>\n",
       "    </tr>\n",
       "    <tr>\n",
       "      <th>664030</th>\n",
       "      <td>664030</td>\n",
       "      <td>CA</td>\n",
       "      <td>M</td>\n",
       "      <td>1960</td>\n",
       "      <td>Robert</td>\n",
       "      <td>6430</td>\n",
       "    </tr>\n",
       "    <tr>\n",
       "      <th>664031</th>\n",
       "      <td>664031</td>\n",
       "      <td>CA</td>\n",
       "      <td>M</td>\n",
       "      <td>1960</td>\n",
       "      <td>Mark</td>\n",
       "      <td>5540</td>\n",
       "    </tr>\n",
       "  </tbody>\n",
       "</table>\n",
       "</div>"
      ],
      "text/plain": [
       "        Unnamed: 0 state gender  year     name  count\n",
       "664027      664027    CA      M  1960    David   7919\n",
       "664028      664028    CA      M  1960  Michael   7390\n",
       "664029      664029    CA      M  1960     John   6530\n",
       "664030      664030    CA      M  1960   Robert   6430\n",
       "664031      664031    CA      M  1960     Mark   5540"
      ]
     },
     "execution_count": 108,
     "metadata": {},
     "output_type": "execute_result"
    }
   ],
   "source": [
    "isin_CA = csvTest[\"state\"].isin([\"CA\"])\n",
    "dataCA = csvTest.loc[isin_CA]\n",
    "isin_1950 = dataCA[\"year\"].isin([1960])\n",
    "dataCA.loc[isin_1950].sort_values(by=\"count\",ascending=False).head()\n"
   ]
  },
  {
   "cell_type": "code",
   "execution_count": 109,
   "id": "ab632258-80fb-4b16-9b8c-ea6884001878",
   "metadata": {},
   "outputs": [
    {
     "data": {
      "text/html": [
       "<div>\n",
       "<style scoped>\n",
       "    .dataframe tbody tr th:only-of-type {\n",
       "        vertical-align: middle;\n",
       "    }\n",
       "\n",
       "    .dataframe tbody tr th {\n",
       "        vertical-align: top;\n",
       "    }\n",
       "\n",
       "    .dataframe thead th {\n",
       "        text-align: right;\n",
       "    }\n",
       "</style>\n",
       "<table border=\"1\" class=\"dataframe\">\n",
       "  <thead>\n",
       "    <tr style=\"text-align: right;\">\n",
       "      <th></th>\n",
       "      <th>Unnamed: 0</th>\n",
       "      <th>state</th>\n",
       "      <th>gender</th>\n",
       "      <th>year</th>\n",
       "      <th>name</th>\n",
       "      <th>count</th>\n",
       "    </tr>\n",
       "  </thead>\n",
       "  <tbody>\n",
       "    <tr>\n",
       "      <th>675911</th>\n",
       "      <td>675911</td>\n",
       "      <td>CA</td>\n",
       "      <td>M</td>\n",
       "      <td>1970</td>\n",
       "      <td>Michael</td>\n",
       "      <td>8197</td>\n",
       "    </tr>\n",
       "    <tr>\n",
       "      <th>675912</th>\n",
       "      <td>675912</td>\n",
       "      <td>CA</td>\n",
       "      <td>M</td>\n",
       "      <td>1970</td>\n",
       "      <td>David</td>\n",
       "      <td>6376</td>\n",
       "    </tr>\n",
       "    <tr>\n",
       "      <th>675913</th>\n",
       "      <td>675913</td>\n",
       "      <td>CA</td>\n",
       "      <td>M</td>\n",
       "      <td>1970</td>\n",
       "      <td>Robert</td>\n",
       "      <td>5668</td>\n",
       "    </tr>\n",
       "    <tr>\n",
       "      <th>675914</th>\n",
       "      <td>675914</td>\n",
       "      <td>CA</td>\n",
       "      <td>M</td>\n",
       "      <td>1970</td>\n",
       "      <td>John</td>\n",
       "      <td>5186</td>\n",
       "    </tr>\n",
       "    <tr>\n",
       "      <th>457416</th>\n",
       "      <td>457416</td>\n",
       "      <td>CA</td>\n",
       "      <td>F</td>\n",
       "      <td>1970</td>\n",
       "      <td>Jennifer</td>\n",
       "      <td>4695</td>\n",
       "    </tr>\n",
       "  </tbody>\n",
       "</table>\n",
       "</div>"
      ],
      "text/plain": [
       "        Unnamed: 0 state gender  year      name  count\n",
       "675911      675911    CA      M  1970   Michael   8197\n",
       "675912      675912    CA      M  1970     David   6376\n",
       "675913      675913    CA      M  1970    Robert   5668\n",
       "675914      675914    CA      M  1970      John   5186\n",
       "457416      457416    CA      F  1970  Jennifer   4695"
      ]
     },
     "execution_count": 109,
     "metadata": {},
     "output_type": "execute_result"
    }
   ],
   "source": [
    "isin_CA = csvTest[\"state\"].isin([\"CA\"])\n",
    "dataCA = csvTest.loc[isin_CA]\n",
    "isin_1950 = dataCA[\"year\"].isin([1970])\n",
    "dataCA.loc[isin_1950].sort_values(by=\"count\",ascending=False).head()"
   ]
  },
  {
   "cell_type": "code",
   "execution_count": 110,
   "id": "55ee8e69-f6e0-47c2-bfae-8dbd660e921a",
   "metadata": {},
   "outputs": [
    {
     "data": {
      "text/html": [
       "<div>\n",
       "<style scoped>\n",
       "    .dataframe tbody tr th:only-of-type {\n",
       "        vertical-align: middle;\n",
       "    }\n",
       "\n",
       "    .dataframe tbody tr th {\n",
       "        vertical-align: top;\n",
       "    }\n",
       "\n",
       "    .dataframe thead th {\n",
       "        text-align: right;\n",
       "    }\n",
       "</style>\n",
       "<table border=\"1\" class=\"dataframe\">\n",
       "  <thead>\n",
       "    <tr style=\"text-align: right;\">\n",
       "      <th></th>\n",
       "      <th>Unnamed: 0</th>\n",
       "      <th>state</th>\n",
       "      <th>gender</th>\n",
       "      <th>year</th>\n",
       "      <th>name</th>\n",
       "      <th>count</th>\n",
       "    </tr>\n",
       "  </thead>\n",
       "  <tbody>\n",
       "    <tr>\n",
       "      <th>690327</th>\n",
       "      <td>690327</td>\n",
       "      <td>CA</td>\n",
       "      <td>M</td>\n",
       "      <td>1980</td>\n",
       "      <td>Michael</td>\n",
       "      <td>6909</td>\n",
       "    </tr>\n",
       "    <tr>\n",
       "      <th>479700</th>\n",
       "      <td>479700</td>\n",
       "      <td>CA</td>\n",
       "      <td>F</td>\n",
       "      <td>1980</td>\n",
       "      <td>Jennifer</td>\n",
       "      <td>5612</td>\n",
       "    </tr>\n",
       "    <tr>\n",
       "      <th>690328</th>\n",
       "      <td>690328</td>\n",
       "      <td>CA</td>\n",
       "      <td>M</td>\n",
       "      <td>1980</td>\n",
       "      <td>David</td>\n",
       "      <td>5083</td>\n",
       "    </tr>\n",
       "    <tr>\n",
       "      <th>690329</th>\n",
       "      <td>690329</td>\n",
       "      <td>CA</td>\n",
       "      <td>M</td>\n",
       "      <td>1980</td>\n",
       "      <td>Christopher</td>\n",
       "      <td>4782</td>\n",
       "    </tr>\n",
       "    <tr>\n",
       "      <th>690330</th>\n",
       "      <td>690330</td>\n",
       "      <td>CA</td>\n",
       "      <td>M</td>\n",
       "      <td>1980</td>\n",
       "      <td>Daniel</td>\n",
       "      <td>4149</td>\n",
       "    </tr>\n",
       "  </tbody>\n",
       "</table>\n",
       "</div>"
      ],
      "text/plain": [
       "        Unnamed: 0 state gender  year         name  count\n",
       "690327      690327    CA      M  1980      Michael   6909\n",
       "479700      479700    CA      F  1980     Jennifer   5612\n",
       "690328      690328    CA      M  1980        David   5083\n",
       "690329      690329    CA      M  1980  Christopher   4782\n",
       "690330      690330    CA      M  1980       Daniel   4149"
      ]
     },
     "execution_count": 110,
     "metadata": {},
     "output_type": "execute_result"
    }
   ],
   "source": [
    "isin_CA = csvTest[\"state\"].isin([\"CA\"])\n",
    "dataCA = csvTest.loc[isin_CA]\n",
    "isin_1950 = dataCA[\"year\"].isin([1980])\n",
    "dataCA.loc[isin_1950].sort_values(by=\"count\",ascending=False).head()"
   ]
  },
  {
   "cell_type": "code",
   "execution_count": 111,
   "id": "2139dbcf-7ebe-4bbb-bc3c-d501b5b22f61",
   "metadata": {},
   "outputs": [
    {
     "data": {
      "text/html": [
       "<div>\n",
       "<style scoped>\n",
       "    .dataframe tbody tr th:only-of-type {\n",
       "        vertical-align: middle;\n",
       "    }\n",
       "\n",
       "    .dataframe tbody tr th {\n",
       "        vertical-align: top;\n",
       "    }\n",
       "\n",
       "    .dataframe thead th {\n",
       "        text-align: right;\n",
       "    }\n",
       "</style>\n",
       "<table border=\"1\" class=\"dataframe\">\n",
       "  <thead>\n",
       "    <tr style=\"text-align: right;\">\n",
       "      <th></th>\n",
       "      <th>Unnamed: 0</th>\n",
       "      <th>state</th>\n",
       "      <th>gender</th>\n",
       "      <th>year</th>\n",
       "      <th>name</th>\n",
       "      <th>count</th>\n",
       "    </tr>\n",
       "  </thead>\n",
       "  <tbody>\n",
       "    <tr>\n",
       "      <th>710150</th>\n",
       "      <td>710150</td>\n",
       "      <td>CA</td>\n",
       "      <td>M</td>\n",
       "      <td>1990</td>\n",
       "      <td>Michael</td>\n",
       "      <td>8247</td>\n",
       "    </tr>\n",
       "    <tr>\n",
       "      <th>509133</th>\n",
       "      <td>509133</td>\n",
       "      <td>CA</td>\n",
       "      <td>F</td>\n",
       "      <td>1990</td>\n",
       "      <td>Jessica</td>\n",
       "      <td>6636</td>\n",
       "    </tr>\n",
       "    <tr>\n",
       "      <th>710151</th>\n",
       "      <td>710151</td>\n",
       "      <td>CA</td>\n",
       "      <td>M</td>\n",
       "      <td>1990</td>\n",
       "      <td>Christopher</td>\n",
       "      <td>6620</td>\n",
       "    </tr>\n",
       "    <tr>\n",
       "      <th>710152</th>\n",
       "      <td>710152</td>\n",
       "      <td>CA</td>\n",
       "      <td>M</td>\n",
       "      <td>1990</td>\n",
       "      <td>Daniel</td>\n",
       "      <td>5768</td>\n",
       "    </tr>\n",
       "    <tr>\n",
       "      <th>710153</th>\n",
       "      <td>710153</td>\n",
       "      <td>CA</td>\n",
       "      <td>M</td>\n",
       "      <td>1990</td>\n",
       "      <td>David</td>\n",
       "      <td>5348</td>\n",
       "    </tr>\n",
       "  </tbody>\n",
       "</table>\n",
       "</div>"
      ],
      "text/plain": [
       "        Unnamed: 0 state gender  year         name  count\n",
       "710150      710150    CA      M  1990      Michael   8247\n",
       "509133      509133    CA      F  1990      Jessica   6636\n",
       "710151      710151    CA      M  1990  Christopher   6620\n",
       "710152      710152    CA      M  1990       Daniel   5768\n",
       "710153      710153    CA      M  1990        David   5348"
      ]
     },
     "execution_count": 111,
     "metadata": {},
     "output_type": "execute_result"
    }
   ],
   "source": [
    "isin_CA = csvTest[\"state\"].isin([\"CA\"])\n",
    "dataCA = csvTest.loc[isin_CA]\n",
    "isin_1950 = dataCA[\"year\"].isin([1990])\n",
    "dataCA.loc[isin_1950].sort_values(by=\"count\",ascending=False).head()"
   ]
  },
  {
   "cell_type": "code",
   "execution_count": 112,
   "id": "f4d728db-5125-406f-bf54-2f83f55c465f",
   "metadata": {},
   "outputs": [
    {
     "data": {
      "text/html": [
       "<div>\n",
       "<style scoped>\n",
       "    .dataframe tbody tr th:only-of-type {\n",
       "        vertical-align: middle;\n",
       "    }\n",
       "\n",
       "    .dataframe tbody tr th {\n",
       "        vertical-align: top;\n",
       "    }\n",
       "\n",
       "    .dataframe thead th {\n",
       "        text-align: right;\n",
       "    }\n",
       "</style>\n",
       "<table border=\"1\" class=\"dataframe\">\n",
       "  <thead>\n",
       "    <tr style=\"text-align: right;\">\n",
       "      <th></th>\n",
       "      <th>Unnamed: 0</th>\n",
       "      <th>state</th>\n",
       "      <th>gender</th>\n",
       "      <th>year</th>\n",
       "      <th>name</th>\n",
       "      <th>count</th>\n",
       "    </tr>\n",
       "  </thead>\n",
       "  <tbody>\n",
       "    <tr>\n",
       "      <th>735201</th>\n",
       "      <td>735201</td>\n",
       "      <td>CA</td>\n",
       "      <td>M</td>\n",
       "      <td>2000</td>\n",
       "      <td>Daniel</td>\n",
       "      <td>4342</td>\n",
       "    </tr>\n",
       "    <tr>\n",
       "      <th>735202</th>\n",
       "      <td>735202</td>\n",
       "      <td>CA</td>\n",
       "      <td>M</td>\n",
       "      <td>2000</td>\n",
       "      <td>Anthony</td>\n",
       "      <td>3840</td>\n",
       "    </tr>\n",
       "    <tr>\n",
       "      <th>735203</th>\n",
       "      <td>735203</td>\n",
       "      <td>CA</td>\n",
       "      <td>M</td>\n",
       "      <td>2000</td>\n",
       "      <td>Jose</td>\n",
       "      <td>3804</td>\n",
       "    </tr>\n",
       "    <tr>\n",
       "      <th>735204</th>\n",
       "      <td>735204</td>\n",
       "      <td>CA</td>\n",
       "      <td>M</td>\n",
       "      <td>2000</td>\n",
       "      <td>Andrew</td>\n",
       "      <td>3600</td>\n",
       "    </tr>\n",
       "    <tr>\n",
       "      <th>735205</th>\n",
       "      <td>735205</td>\n",
       "      <td>CA</td>\n",
       "      <td>M</td>\n",
       "      <td>2000</td>\n",
       "      <td>Michael</td>\n",
       "      <td>3572</td>\n",
       "    </tr>\n",
       "  </tbody>\n",
       "</table>\n",
       "</div>"
      ],
      "text/plain": [
       "        Unnamed: 0 state gender  year     name  count\n",
       "735201      735201    CA      M  2000   Daniel   4342\n",
       "735202      735202    CA      M  2000  Anthony   3840\n",
       "735203      735203    CA      M  2000     Jose   3804\n",
       "735204      735204    CA      M  2000   Andrew   3600\n",
       "735205      735205    CA      M  2000  Michael   3572"
      ]
     },
     "execution_count": 112,
     "metadata": {},
     "output_type": "execute_result"
    }
   ],
   "source": [
    "isin_CA = csvTest[\"state\"].isin([\"CA\"])\n",
    "dataCA = csvTest.loc[isin_CA]\n",
    "isin_1950 = dataCA[\"year\"].isin([2000])\n",
    "dataCA.loc[isin_1950].sort_values(by=\"count\",ascending=False).head()"
   ]
  },
  {
   "cell_type": "code",
   "execution_count": 113,
   "id": "efbf48ab-595c-4a15-9a90-665fb2507df7",
   "metadata": {},
   "outputs": [
    {
     "data": {
      "text/html": [
       "<div>\n",
       "<style scoped>\n",
       "    .dataframe tbody tr th:only-of-type {\n",
       "        vertical-align: middle;\n",
       "    }\n",
       "\n",
       "    .dataframe tbody tr th {\n",
       "        vertical-align: top;\n",
       "    }\n",
       "\n",
       "    .dataframe thead th {\n",
       "        text-align: right;\n",
       "    }\n",
       "</style>\n",
       "<table border=\"1\" class=\"dataframe\">\n",
       "  <thead>\n",
       "    <tr style=\"text-align: right;\">\n",
       "      <th></th>\n",
       "      <th>Unnamed: 0</th>\n",
       "      <th>state</th>\n",
       "      <th>gender</th>\n",
       "      <th>year</th>\n",
       "      <th>name</th>\n",
       "      <th>count</th>\n",
       "    </tr>\n",
       "  </thead>\n",
       "  <tbody>\n",
       "    <tr>\n",
       "      <th>585935</th>\n",
       "      <td>585935</td>\n",
       "      <td>CA</td>\n",
       "      <td>F</td>\n",
       "      <td>2010</td>\n",
       "      <td>Isabella</td>\n",
       "      <td>3370</td>\n",
       "    </tr>\n",
       "    <tr>\n",
       "      <th>585936</th>\n",
       "      <td>585936</td>\n",
       "      <td>CA</td>\n",
       "      <td>F</td>\n",
       "      <td>2010</td>\n",
       "      <td>Sophia</td>\n",
       "      <td>3362</td>\n",
       "    </tr>\n",
       "    <tr>\n",
       "      <th>762580</th>\n",
       "      <td>762580</td>\n",
       "      <td>CA</td>\n",
       "      <td>M</td>\n",
       "      <td>2010</td>\n",
       "      <td>Jacob</td>\n",
       "      <td>3355</td>\n",
       "    </tr>\n",
       "    <tr>\n",
       "      <th>762581</th>\n",
       "      <td>762581</td>\n",
       "      <td>CA</td>\n",
       "      <td>M</td>\n",
       "      <td>2010</td>\n",
       "      <td>Daniel</td>\n",
       "      <td>3137</td>\n",
       "    </tr>\n",
       "    <tr>\n",
       "      <th>762582</th>\n",
       "      <td>762582</td>\n",
       "      <td>CA</td>\n",
       "      <td>M</td>\n",
       "      <td>2010</td>\n",
       "      <td>Anthony</td>\n",
       "      <td>2861</td>\n",
       "    </tr>\n",
       "  </tbody>\n",
       "</table>\n",
       "</div>"
      ],
      "text/plain": [
       "        Unnamed: 0 state gender  year      name  count\n",
       "585935      585935    CA      F  2010  Isabella   3370\n",
       "585936      585936    CA      F  2010    Sophia   3362\n",
       "762580      762580    CA      M  2010     Jacob   3355\n",
       "762581      762581    CA      M  2010    Daniel   3137\n",
       "762582      762582    CA      M  2010   Anthony   2861"
      ]
     },
     "execution_count": 113,
     "metadata": {},
     "output_type": "execute_result"
    }
   ],
   "source": [
    "isin_CA = csvTest[\"state\"].isin([\"CA\"])\n",
    "dataCA = csvTest.loc[isin_CA]\n",
    "isin_1950 = dataCA[\"year\"].isin([2010])\n",
    "dataCA.loc[isin_1950].sort_values(by=\"count\",ascending=False).head()"
   ]
  },
  {
   "cell_type": "code",
   "execution_count": 117,
   "id": "e56c1cf8-043e-4c71-972f-005f9152052d",
   "metadata": {},
   "outputs": [
    {
     "data": {
      "text/html": [
       "<div>\n",
       "<style scoped>\n",
       "    .dataframe tbody tr th:only-of-type {\n",
       "        vertical-align: middle;\n",
       "    }\n",
       "\n",
       "    .dataframe tbody tr th {\n",
       "        vertical-align: top;\n",
       "    }\n",
       "\n",
       "    .dataframe thead th {\n",
       "        text-align: right;\n",
       "    }\n",
       "</style>\n",
       "<table border=\"1\" class=\"dataframe\">\n",
       "  <thead>\n",
       "    <tr style=\"text-align: right;\">\n",
       "      <th></th>\n",
       "      <th>Unnamed: 0</th>\n",
       "      <th>state</th>\n",
       "      <th>gender</th>\n",
       "      <th>year</th>\n",
       "      <th>name</th>\n",
       "      <th>count</th>\n",
       "    </tr>\n",
       "  </thead>\n",
       "  <tbody>\n",
       "    <tr>\n",
       "      <th>791622</th>\n",
       "      <td>791622</td>\n",
       "      <td>CA</td>\n",
       "      <td>M</td>\n",
       "      <td>2020</td>\n",
       "      <td>Noah</td>\n",
       "      <td>2625</td>\n",
       "    </tr>\n",
       "  </tbody>\n",
       "</table>\n",
       "</div>"
      ],
      "text/plain": [
       "        Unnamed: 0 state gender  year  name  count\n",
       "791622      791622    CA      M  2020  Noah   2625"
      ]
     },
     "execution_count": 117,
     "metadata": {},
     "output_type": "execute_result"
    }
   ],
   "source": [
    "isin_CA = csvTest[\"state\"].isin([\"CA\"])\n",
    "dataCA = csvTest.loc[isin_CA]\n",
    "isin_1950 = dataCA[\"year\"].isin([2020])\n",
    "new_df = dataCA.loc[isin_1950].sort_values(by=\"count\",ascending=False)\n",
    "\n",
    "new_df = new_df[new_df['count']>=2600]"
   ]
  },
  {
   "cell_type": "markdown",
   "id": "a817078b-849a-453a-a2c0-74d9e8e89536",
   "metadata": {},
   "source": [
    "## 2번째로 인구수 많은 TX에서 전 연도별 이름 수\n",
    "- 30개 이상"
   ]
  },
  {
   "cell_type": "code",
   "execution_count": 39,
   "id": "7e80bf2d-dd1a-4c2c-988f-acd9762425ef",
   "metadata": {},
   "outputs": [
    {
     "data": {
      "text/plain": [
       "name\n",
       "Aaden     521\n",
       "Aadhya    269\n",
       "Aadi       54\n",
       "Aadya     158\n",
       "Aahana     56\n",
       "         ... \n",
       "Zyler      63\n",
       "Zyon      243\n",
       "Zyra       69\n",
       "Zyria      36\n",
       "Zyriah     42\n",
       "Name: count, Length: 10537, dtype: int64"
      ]
     },
     "execution_count": 39,
     "metadata": {},
     "output_type": "execute_result"
    }
   ],
   "source": [
    "TxCity = csvTest[\"state\"].isin([\"TX\"])\n",
    "people = csvTest.loc[TxCity]\n",
    "limit = people.groupby(\"name\")['count'].sum()\n",
    "limit[limit>=30]"
   ]
  },
  {
   "cell_type": "markdown",
   "id": "eea997ea-1d36-419e-85a9-bffbd8ce3985",
   "metadata": {},
   "source": [
    "## 중복된 이름 제거 후 이름 나열\n"
   ]
  },
  {
   "cell_type": "code",
   "execution_count": 153,
   "id": "bff61ca6-408a-4f13-8d0b-89817a379d92",
   "metadata": {},
   "outputs": [
    {
     "data": {
      "text/plain": [
       "0              Mary\n",
       "1             Annie\n",
       "2              Anna\n",
       "3          Margaret\n",
       "4             Helen\n",
       "             ...   \n",
       "6257548       Edgel\n",
       "6257914      Delmos\n",
       "6257942      Delmus\n",
       "6279228     Coalton\n",
       "6283190       Wyoma\n",
       "Name: name, Length: 32403, dtype: object"
      ]
     },
     "execution_count": 153,
     "metadata": {},
     "output_type": "execute_result"
    }
   ],
   "source": [
    "df = csvTest[\"name\"].drop_duplicates()\n",
    "df"
   ]
  },
  {
   "cell_type": "markdown",
   "id": "989e0898-90f3-4e62-9085-026c6621a458",
   "metadata": {},
   "source": [
    "## Mary라는 이름을 가진 사람의 수"
   ]
  },
  {
   "cell_type": "code",
   "execution_count": 154,
   "id": "02d4ae52-c99c-4e9c-aec8-b93dcbae03e9",
   "metadata": {},
   "outputs": [
    {
     "data": {
      "text/plain": [
       "319731698"
      ]
     },
     "execution_count": 154,
     "metadata": {},
     "output_type": "execute_result"
    }
   ],
   "source": [
    "isinMary = csvTest[\"name\"].isin(df)\n",
    "mary = csvTest.loc[isinMary]\n",
    "mary[\"count\"].sum()"
   ]
  },
  {
   "cell_type": "markdown",
   "id": "25fff01e-e71a-48b7-b37a-673560cd2f2d",
   "metadata": {},
   "source": [
    "## 이름이 두 글자"
   ]
  },
  {
   "cell_type": "code",
   "execution_count": 151,
   "id": "0f17d61d-a3d6-4c55-9e40-65b54ef75d74",
   "metadata": {},
   "outputs": [
    {
     "data": {
      "text/plain": [
       "1092       Jo\n",
       "21517      Ty\n",
       "104897     Ed\n",
       "105609     Al\n",
       "111218     Jc\n",
       "           ..\n",
       "4258465    Da\n",
       "4262475    El\n",
       "4274897    Ho\n",
       "4830330    Ta\n",
       "5606868    Jt\n",
       "Name: name, Length: 82, dtype: object"
      ]
     },
     "execution_count": 151,
     "metadata": {},
     "output_type": "execute_result"
    }
   ],
   "source": [
    "a = csvTest[csvTest[\"name\"].apply(lambda x:len(str(x))==2)]\n",
    "a[\"name\"].drop_duplicates()"
   ]
  },
  {
   "cell_type": "markdown",
   "id": "19a71b1f-7a40-4657-a7d3-58c125a40849",
   "metadata": {},
   "source": [
    "## 이름 별 빈도수\n",
    "- 이름 별 빈도수 30 이상만"
   ]
  },
  {
   "cell_type": "code",
   "execution_count": 173,
   "id": "ee7cc4d3-e45e-4cf6-9212-8ad258c2b4e8",
   "metadata": {},
   "outputs": [
    {
     "data": {
      "text/plain": [
       "name\n",
       "James       5054074\n",
       "John        4910976\n",
       "Robert      4763102\n",
       "Michael     4396482\n",
       "William     3939912\n",
       "             ...   \n",
       "Talulah          30\n",
       "Damacio          30\n",
       "Ariele           30\n",
       "Yoceline         30\n",
       "Jashan           30\n",
       "Name: count, Length: 18989, dtype: int64"
      ]
     },
     "execution_count": 173,
     "metadata": {},
     "output_type": "execute_result"
    }
   ],
   "source": [
    "nameCount = csvTest.groupby(by=\"name\")['count'].sum()\n",
    "nameCount[nameCount>=30].sort_values(ascending=False)"
   ]
  },
  {
   "cell_type": "markdown",
   "id": "0b59385b-4ebb-47e2-a0b4-8003e58ef330",
   "metadata": {
    "tags": []
   },
   "source": [
    "## 1910~1950년 이름 빈도수 합산\n",
    "- 단 이름 빈도수 30 이상만 출력"
   ]
  },
  {
   "cell_type": "code",
   "execution_count": 40,
   "id": "775655cf-d475-4632-bdda-c1552062a15a",
   "metadata": {},
   "outputs": [
    {
     "data": {
      "text/plain": [
       "name\n",
       "Mary        2466447\n",
       "Robert      2255398\n",
       "James       2228552\n",
       "John        2227638\n",
       "William     1854614\n",
       "             ...   \n",
       "Pheobe            5\n",
       "Pheba             5\n",
       "Deva              5\n",
       "Detroit           5\n",
       "Marvelle          5\n",
       "Name: count, Length: 8651, dtype: int64"
      ]
     },
     "execution_count": 40,
     "metadata": {},
     "output_type": "execute_result"
    }
   ],
   "source": [
    "year = []\n",
    "for i in range(1910,1951):\n",
    "    year.append(i)\n",
    "a = csvTest[\"year\"].isin(year)\n",
    "b= csvTest.loc[a]\n",
    "count = b.groupby(\"name\")[\"count\"].sum()\n",
    "count.sort_values(ascending=False)"
   ]
  },
  {
   "cell_type": "markdown",
   "id": "bc00cdf9-4ac7-46e3-a280-b0ccf604fc4b",
   "metadata": {},
   "source": [
    "## 1951년~2000년대 이름 빈도수 합산\n",
    "- 단 30 이상인 이름 빈도수만 출력"
   ]
  },
  {
   "cell_type": "code",
   "execution_count": 41,
   "id": "382f3e15-790a-431c-a33c-a402c624a248",
   "metadata": {},
   "outputs": [
    {
     "data": {
      "text/plain": [
       "name\n",
       "Michael     3486855\n",
       "David       2553495\n",
       "James       2515962\n",
       "John        2423383\n",
       "Robert      2343485\n",
       "             ...   \n",
       "Rushil            5\n",
       "Ruslan            5\n",
       "Geraldin          5\n",
       "Gerber            5\n",
       "Zyshonne          5\n",
       "Name: count, Length: 20370, dtype: int64"
      ]
     },
     "execution_count": 41,
     "metadata": {},
     "output_type": "execute_result"
    }
   ],
   "source": [
    "year = []\n",
    "for i in range(1951,2001):\n",
    "    year.append(i)\n",
    "a = csvTest[\"year\"].isin(year)\n",
    "b= csvTest.loc[a]\n",
    "count = b.groupby(\"name\")[\"count\"].sum()\n",
    "count.sort_values(ascending=False)"
   ]
  },
  {
   "cell_type": "markdown",
   "id": "4ed66946-2ffe-4c8a-ba1a-9a05c343d29f",
   "metadata": {},
   "source": [
    "## Tommy, Sally 이런 흔한 이름이 있을까?\n"
   ]
  },
  {
   "cell_type": "code",
   "execution_count": 30,
   "id": "a4fc0824-c821-4dbc-b8b9-b29ffb9a64e4",
   "metadata": {},
   "outputs": [
    {
     "data": {
      "text/html": [
       "<div>\n",
       "<style scoped>\n",
       "    .dataframe tbody tr th:only-of-type {\n",
       "        vertical-align: middle;\n",
       "    }\n",
       "\n",
       "    .dataframe tbody tr th {\n",
       "        vertical-align: top;\n",
       "    }\n",
       "\n",
       "    .dataframe thead th {\n",
       "        text-align: right;\n",
       "    }\n",
       "</style>\n",
       "<table border=\"1\" class=\"dataframe\">\n",
       "  <thead>\n",
       "    <tr style=\"text-align: right;\">\n",
       "      <th></th>\n",
       "      <th>Unnamed: 0</th>\n",
       "      <th>state</th>\n",
       "      <th>gender</th>\n",
       "      <th>year</th>\n",
       "      <th>name</th>\n",
       "      <th>count</th>\n",
       "    </tr>\n",
       "  </thead>\n",
       "  <tbody>\n",
       "    <tr>\n",
       "      <th>90</th>\n",
       "      <td>90</td>\n",
       "      <td>AK</td>\n",
       "      <td>F</td>\n",
       "      <td>1916</td>\n",
       "      <td>Sally</td>\n",
       "      <td>5</td>\n",
       "    </tr>\n",
       "    <tr>\n",
       "      <th>498</th>\n",
       "      <td>498</td>\n",
       "      <td>AK</td>\n",
       "      <td>F</td>\n",
       "      <td>1933</td>\n",
       "      <td>Sally</td>\n",
       "      <td>5</td>\n",
       "    </tr>\n",
       "    <tr>\n",
       "      <th>551</th>\n",
       "      <td>551</td>\n",
       "      <td>AK</td>\n",
       "      <td>F</td>\n",
       "      <td>1935</td>\n",
       "      <td>Sally</td>\n",
       "      <td>5</td>\n",
       "    </tr>\n",
       "    <tr>\n",
       "      <th>617</th>\n",
       "      <td>617</td>\n",
       "      <td>AK</td>\n",
       "      <td>F</td>\n",
       "      <td>1937</td>\n",
       "      <td>Sally</td>\n",
       "      <td>5</td>\n",
       "    </tr>\n",
       "    <tr>\n",
       "      <th>671</th>\n",
       "      <td>671</td>\n",
       "      <td>AK</td>\n",
       "      <td>F</td>\n",
       "      <td>1939</td>\n",
       "      <td>Sally</td>\n",
       "      <td>7</td>\n",
       "    </tr>\n",
       "    <tr>\n",
       "      <th>...</th>\n",
       "      <td>...</td>\n",
       "      <td>...</td>\n",
       "      <td>...</td>\n",
       "      <td>...</td>\n",
       "      <td>...</td>\n",
       "      <td>...</td>\n",
       "    </tr>\n",
       "    <tr>\n",
       "      <th>6302609</th>\n",
       "      <td>6302609</td>\n",
       "      <td>WY</td>\n",
       "      <td>M</td>\n",
       "      <td>1961</td>\n",
       "      <td>Tommy</td>\n",
       "      <td>7</td>\n",
       "    </tr>\n",
       "    <tr>\n",
       "      <th>6302790</th>\n",
       "      <td>6302790</td>\n",
       "      <td>WY</td>\n",
       "      <td>M</td>\n",
       "      <td>1962</td>\n",
       "      <td>Tommy</td>\n",
       "      <td>6</td>\n",
       "    </tr>\n",
       "    <tr>\n",
       "      <th>6303125</th>\n",
       "      <td>6303125</td>\n",
       "      <td>WY</td>\n",
       "      <td>M</td>\n",
       "      <td>1964</td>\n",
       "      <td>Tommy</td>\n",
       "      <td>5</td>\n",
       "    </tr>\n",
       "    <tr>\n",
       "      <th>6303376</th>\n",
       "      <td>6303376</td>\n",
       "      <td>WY</td>\n",
       "      <td>M</td>\n",
       "      <td>1966</td>\n",
       "      <td>Tommy</td>\n",
       "      <td>6</td>\n",
       "    </tr>\n",
       "    <tr>\n",
       "      <th>6304531</th>\n",
       "      <td>6304531</td>\n",
       "      <td>WY</td>\n",
       "      <td>M</td>\n",
       "      <td>1975</td>\n",
       "      <td>Tommy</td>\n",
       "      <td>5</td>\n",
       "    </tr>\n",
       "  </tbody>\n",
       "</table>\n",
       "<p>7881 rows × 6 columns</p>\n",
       "</div>"
      ],
      "text/plain": [
       "         Unnamed: 0 state gender  year   name  count\n",
       "90               90    AK      F  1916  Sally      5\n",
       "498             498    AK      F  1933  Sally      5\n",
       "551             551    AK      F  1935  Sally      5\n",
       "617             617    AK      F  1937  Sally      5\n",
       "671             671    AK      F  1939  Sally      7\n",
       "...             ...   ...    ...   ...    ...    ...\n",
       "6302609     6302609    WY      M  1961  Tommy      7\n",
       "6302790     6302790    WY      M  1962  Tommy      6\n",
       "6303125     6303125    WY      M  1964  Tommy      5\n",
       "6303376     6303376    WY      M  1966  Tommy      6\n",
       "6304531     6304531    WY      M  1975  Tommy      5\n",
       "\n",
       "[7881 rows x 6 columns]"
      ]
     },
     "execution_count": 30,
     "metadata": {},
     "output_type": "execute_result"
    }
   ],
   "source": [
    "check = csvTest[\"name\"].isin([\"Tommy\",\"Sally\"])\n",
    "csvTest.loc[check]"
   ]
  },
  {
   "cell_type": "markdown",
   "id": "80dc585b-bad0-46f5-9229-73e3cdc06536",
   "metadata": {},
   "source": [
    "## 10년 단위로 연도별 인구수 -> 대신 날릴 때 숫자 기준 정해보자"
   ]
  },
  {
   "cell_type": "markdown",
   "id": "e36aa343-1638-4b5f-b5da-ef150ed6efd4",
   "metadata": {},
   "source": [
    "### 1970~2020"
   ]
  },
  {
   "cell_type": "markdown",
   "id": "20c20814-548a-4376-ab5f-0e7ab223da04",
   "metadata": {},
   "source": [
    "## 1) 5년 단위\n",
    "-  총개수: 20074\n",
    "\n",
    "    * Michael        493839<br>\n",
    "    Christopher    357804<br>\n",
    "    David          311385<br>\n",
    "    James          307940<br>\n",
    "    Matthew        297003<br>\n",
    "                ...  \n",
    "    Keaundra            5<br>\n",
    "    Keatyn              5<br>\n",
    "    Keanthony           5<br>\n",
    "    Keante              5<br>\n",
    "    Zyron               5<br>\n",
    "\n",
    "- 만약 한 해에 사용된 이름의 빈도 수가 50이하는 빼기로 했다면?\n",
    "    * 최소 누적 빈도수의 합은 400이상이여야 한다.\n",
    "    * 그럴 때 개수는 3912\n"
   ]
  },
  {
   "cell_type": "code",
   "execution_count": 15,
   "id": "aefca7a8-44e9-4145-a864-84e13fa43aef",
   "metadata": {},
   "outputs": [
    {
     "data": {
      "text/plain": [
       "name\n",
       "Michael        493839\n",
       "Christopher    357804\n",
       "David          311385\n",
       "James          307940\n",
       "Matthew        297003\n",
       "                ...  \n",
       "Charla            401\n",
       "Stephani          401\n",
       "Brittnee          401\n",
       "Deegan            400\n",
       "Hussein           400\n",
       "Name: count, Length: 3912, dtype: int64"
      ]
     },
     "execution_count": 15,
     "metadata": {},
     "output_type": "execute_result"
    }
   ],
   "source": [
    "year = []\n",
    "for i in range(1970,2021,5):\n",
    "    year.append(i)\n",
    "a = csvTest[\"year\"].isin(year)\n",
    "b= csvTest.loc[a]\n",
    "count = b.groupby(\"name\")[\"count\"].sum()\n",
    "count[count>=400].sort_values(ascending=False)"
   ]
  },
  {
   "cell_type": "markdown",
   "id": "0aeb26ac-6283-465d-bec8-d16c4f2caab4",
   "metadata": {},
   "source": [
    "## 2) 10년 단위\n",
    "- 총 개수: 17497\n",
    "    - Michael        279652<br>\n",
    "      Christopher    189199<br>\n",
    "      David          180228<br>\n",
    "      James          178290<br>\n",
    "      John           163293<br>\n",
    "                ...  \n",
    "      Ama                 5<br>\n",
    "      Sharvi              5<br>\n",
    "      Khayree             5<br>\n",
    "      Sharyl              5<br>\n",
    "      Zyrah               5<br>\n",
    "      \n",
    "- \n",
    "- 만약 한 해에 사용된 이름의 빈도 수가 50이하는 빼기로 했다면?\n",
    "    * 최소 누적 빈도수의 합은 400이상이여야 한다.\n",
    "    * 그럴 때 개수는 3056"
   ]
  },
  {
   "cell_type": "code",
   "execution_count": 43,
   "id": "39bb2259-d753-4ff8-8abb-b190b278500f",
   "metadata": {},
   "outputs": [
    {
     "data": {
      "text/plain": [
       "name\n",
       "Michael        279652\n",
       "Christopher    189199\n",
       "David          180228\n",
       "James          178290\n",
       "John           163293\n",
       "                ...  \n",
       "Linnea            400\n",
       "Musa              400\n",
       "Annalee           400\n",
       "Sommer            400\n",
       "Yoel              400\n",
       "Name: count, Length: 3056, dtype: int64"
      ]
     },
     "execution_count": 43,
     "metadata": {},
     "output_type": "execute_result"
    }
   ],
   "source": [
    "year = []\n",
    "for i in range(1970,2021,10):\n",
    "    year.append(i)\n",
    "a = csvTest[\"year\"].isin(year)\n",
    "b= csvTest.loc[a]\n",
    "count = b.groupby(\"name\")[\"count\"].sum()\n",
    "# count.sort_values(ascending=False)\n",
    "count[count>=400].sort_values(ascending=False)"
   ]
  },
  {
   "cell_type": "markdown",
   "id": "01e0c7bd-7fa5-49fd-80a9-28e66f1fd373",
   "metadata": {},
   "source": [
    "## 주 별 정규화"
   ]
  },
  {
   "cell_type": "markdown",
   "id": "26321601-01df-4ff9-8332-1e47b93dcf10",
   "metadata": {},
   "source": [
    "### 전체 도시"
   ]
  },
  {
   "cell_type": "code",
   "execution_count": 3,
   "id": "d67cac89-8d36-4640-9f0e-cbe6c3235a8b",
   "metadata": {},
   "outputs": [
    {
     "data": {
      "text/plain": [
       "name\n",
       "Michael        0.014131\n",
       "Christopher    0.010238\n",
       "David          0.008910\n",
       "James          0.008811\n",
       "Matthew        0.008498\n",
       "                 ...   \n",
       "Charla         0.000011\n",
       "Stephani       0.000011\n",
       "Brittnee       0.000011\n",
       "Deegan         0.000011\n",
       "Hussein        0.000011\n",
       "Name: count, Length: 3912, dtype: float64"
      ]
     },
     "execution_count": 3,
     "metadata": {},
     "output_type": "execute_result"
    }
   ],
   "source": [
    "state = []\n",
    "index = [    0,   29755,  169048,  274421,  396506,  797268,  910254,\n",
    "             995202, 1052467, 1086173, 1304365, 1495732, 1551801, 1649316,\n",
    "            1709761, 1947600, 2092957, 2190796, 2313404, 2467116, 2590674,\n",
    "            2707373, 2759225, 2949248, 3068558, 3212694, 3330010, 3377154,\n",
    "            3558801, 3606467, 3681166, 3721723, 3881418, 3959173, 4010002,\n",
    "            4319534, 4523699, 4645164, 4737574, 4944518, 4986058, 5108585,\n",
    "            5157450, 5304662, 5673649, 5767413, 5921813, 5951296, 6082105,\n",
    "            6203503, 6282753]\n",
    "for i in index:\n",
    "    state.append(csvTest[\"state\"].drop_duplicates()[i])\n",
    "\n",
    "year = []\n",
    "for i in range(1970,2021,5):\n",
    "    year.append(i)\n",
    "    \n",
    "popularity = csvTest[\"state\"].isin(state)\n",
    "data = csvTest.loc[popularity]\n",
    "DataCa = data[\"year\"].isin(year)\n",
    "# data.loc[DataCa]\n",
    "\n",
    "# # 전체 도시 -> 1970~2020까지 5년 단위로 했을 때 누적 총 인구수\n",
    "totalPopularity = data.loc[DataCa]\n",
    "statePerPopularity = totalPopularity.groupby('state')[\"count\"].sum().sort_values(ascending=False)\n",
    "# 정규화 시작\n",
    "a = csvTest[\"year\"].isin(year)\n",
    "b= csvTest.loc[a]\n",
    "count = b.groupby(\"name\")[\"count\"].sum()\n",
    "count1 = count[count>=400].sort_values(ascending=False)\n",
    "count2 = count1/statePerPopularity.sum()\n",
    "\n",
    "# 400개 이하의 빈도수는 제거\n",
    "count2.sort_values(ascending=False)\n"
   ]
  },
  {
   "cell_type": "code",
   "execution_count": null,
   "id": "ff99905e-d4e0-478e-8698-196341e08a04",
   "metadata": {},
   "outputs": [],
   "source": []
  }
 ],
 "metadata": {
  "kernelspec": {
   "display_name": "Python 3 (ipykernel)",
   "language": "python",
   "name": "python3"
  },
  "language_info": {
   "codemirror_mode": {
    "name": "ipython",
    "version": 3
   },
   "file_extension": ".py",
   "mimetype": "text/x-python",
   "name": "python",
   "nbconvert_exporter": "python",
   "pygments_lexer": "ipython3",
   "version": "3.9.12"
  }
 },
 "nbformat": 4,
 "nbformat_minor": 5
}
