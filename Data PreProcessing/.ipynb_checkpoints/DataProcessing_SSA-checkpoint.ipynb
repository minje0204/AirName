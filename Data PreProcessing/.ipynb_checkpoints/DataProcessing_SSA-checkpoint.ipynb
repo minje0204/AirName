{
 "cells": [
  {
   "cell_type": "code",
   "execution_count": null,
   "id": "c1ca8791-a93c-4245-a2bc-165dae940855",
   "metadata": {},
   "outputs": [],
   "source": [
    "import csv\n",
    "import json\n",
    "import pandas as pd \n",
    "\n",
    "nameStateDict=[]\n",
    "nameSet=[]\n",
    "\n",
    "def LoadNameStateCSV():\n",
    "    nameState = pd.read_csv('C:/Users/SSAFY/S07P22A108/DataSet/Processing Data/name_state.csv')\n",
    "    # nameStateDict = csv.DictReader(nameState)\n",
    "    print(nameState[nameState['name'].str.lower()=='jane'])\n",
    "    \n",
    "def LoadBehindNames():\n",
    "    with open('mvpNameSet_normal.json', 'r') as f:\n",
    "        nameSet = json.load(f)\n",
    "            \n",
    "    for name in nameSet:\n",
    "        print(name['name'])\n",
    "\n",
    "if __name__ == '__main__':\n",
    "    LoadNameStateCSV()\n"
   ]
  }
 ],
 "metadata": {
  "kernelspec": {
   "display_name": "Python 3 (ipykernel)",
   "language": "python",
   "name": "python3"
  },
  "language_info": {
   "codemirror_mode": {
    "name": "ipython",
    "version": 3
   },
   "file_extension": ".py",
   "mimetype": "text/x-python",
   "name": "python",
   "nbconvert_exporter": "python",
   "pygments_lexer": "ipython3",
   "version": "3.9.12"
  }
 },
 "nbformat": 4,
 "nbformat_minor": 5
}
