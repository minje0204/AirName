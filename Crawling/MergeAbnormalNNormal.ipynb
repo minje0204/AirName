{
 "cells": [
  {
   "cell_type": "markdown",
   "id": "c2ee6797-b2ff-4e42-b235-128d1f93b0c1",
   "metadata": {},
   "source": [
    "### 1. Abnormal 재정제 및 구조 변경"
   ]
  },
  {
   "cell_type": "code",
   "execution_count": 71,
   "id": "00d4c9b0-b910-4d47-8b3a-98eeaf2667d3",
   "metadata": {},
   "outputs": [],
   "source": [
    "import numpy as np \n",
    "import pandas as pd \n",
    "import json\n",
    "\n",
    "with open('mvpNameSet_normal_changed_structure.json') as f:\n",
    "    js = json.loads(f.read())\n",
    "normal = pd.DataFrame(js)\n",
    "\n",
    "with open('mvpNameSet_abnormal_2.json') as f:\n",
    "    js = json.loads(f.read())\n",
    "abnormal = pd.DataFrame(js)\n",
    "\n",
    "abnormal\n",
    "\n",
    "\n",
    "def ChangeStructure():\n",
    "    with open('mvpNameSet_abnormal.json', 'r') as f:\n",
    "        nameSet = json.load(f)\n",
    "    \n",
    "    dict = {}\n",
    "    for name in nameSet:\n",
    "        if name['name'] in dict:\n",
    "            if name['gender'] =='F' or name['gender']=='U':\n",
    "                if dict[name['name']]['female'] =={}:\n",
    "                    n['female']['usage']=name['usage']\n",
    "                    n['female']['meaning']=name['meaning']\n",
    "                    n['female']['attribute']=name['attribute']\n",
    "                else:\n",
    "                    for usage in name['usage']:\n",
    "                        if usage not in dict[name['name']]['female']['usage']:\n",
    "                            dict[name['name']]['female']['usage'].append(usage)\n",
    "                    dict[name['name']]['female']['meaning']+=(name['meaning'])\n",
    "                    for key, value in dict[name['name']]['female']['attribute'].items():\n",
    "                        dict[name['name']]['female']['attribute'][key]+=name['attribute'][key]\n",
    "            if name['gender'] =='M' or name['gender']=='U':\n",
    "                if dict[name['name']]['male'] =={}:\n",
    "                    n['male']['usage']=name['usage']\n",
    "                    n['male']['meaning']=name['meaning']\n",
    "                    n['male']['attribute']=name['attribute']\n",
    "                else:\n",
    "                    for usage in name['usage']:\n",
    "                        if usage not in dict[name['name']]['male']['usage']:\n",
    "                            dict[name['name']]['male']['usage'].append(usage)\n",
    "                    dict[name['name']]['male']['meaning']+=(name['meaning'])\n",
    "                    for key, value in dict[name['name']]['male']['attribute'].items():\n",
    "                        dict[name['name']]['male']['attribute'][key]+=name['attribute'][key]\n",
    "        \n",
    "        else:\n",
    "            n = {}\n",
    "            n['name'] = name['name']\n",
    "            n['female']={}\n",
    "            n['male']={}\n",
    "            if name['gender'] =='F' or name['gender']=='U':\n",
    "                n['female']['usage']=name['usage']\n",
    "                n['female']['meaning']=name['meaning']\n",
    "                n['female']['attribute']=name['attribute']\n",
    "            if name['gender'] =='M' or name['gender']=='U':\n",
    "                n['male']['usage']=name['usage']\n",
    "                n['male']['meaning']=name['meaning']\n",
    "                n['male']['attribute']=name['attribute']\n",
    "        \n",
    "            dict[n['name']] = n\n",
    "    dataSet = []\n",
    "    for k,v in dict.items():\n",
    "        dataSet.append(v)\n",
    "        \n",
    "    fileName = \"mvpNameSet_abnormal_changed_structure.json\"\n",
    "    file = open(fileName, \"w\")\n",
    "    json.dump(dataSet, file)\n",
    "    file.close()\n",
    "    \n",
    "\n",
    "if __name__ == '__main__':\n",
    "    ChangeStructure()\n"
   ]
  },
  {
   "cell_type": "markdown",
   "id": "0974cfd9-325a-408f-aafb-1ec7b11f7aed",
   "metadata": {
    "tags": []
   },
   "source": [
    "### 2. Normal + Abnormal 합치기"
   ]
  },
  {
   "cell_type": "code",
   "execution_count": 108,
   "id": "aa89cb44-2408-4dd5-8f8d-5e19143a994c",
   "metadata": {},
   "outputs": [],
   "source": [
    "import numpy as np \n",
    "import pandas as pd \n",
    "import json\n",
    "\n",
    "\n",
    "def MergeNormalNAbnormal():\n",
    "    with open('C:\\\\Users\\\\SSAFY\\\\S07P22A108\\\\DataSet\\\\Processing Data\\\\mvpNameSet_normal_changed_structure.json') as f:\n",
    "        normalSet = json.load(f)\n",
    "    \n",
    "    with open('C:\\\\Users\\\\SSAFY\\\\S07P22A108\\\\DataSet\\\\Processing Data\\\\mvpNameSet_abnormal_changed_structure.json') as f:\n",
    "        abnormal = json.loads(f.read())\n",
    "        \n",
    "    for name in abnormal:\n",
    "        normalSet.append(name)\n",
    "        \n",
    "    fileName = \"C:/Users/SSAFY/S07P22A108/DataSet/Processing Data/mvpNameSet_merge_normal_abnormal.json\"\n",
    "    file = open(fileName, \"w\")\n",
    "    json.dump(normalSet, file)\n",
    "    file.close()\n",
    "\n",
    "    \n",
    "if __name__ == '__main__':\n",
    "    MergeNormalNAbnormal()"
   ]
  },
  {
   "cell_type": "code",
   "execution_count": null,
   "id": "519cd591-23a7-4f54-997d-11757cc73cc7",
   "metadata": {},
   "outputs": [],
   "source": []
  }
 ],
 "metadata": {
  "kernelspec": {
   "display_name": "Python 3 (ipykernel)",
   "language": "python",
   "name": "python3"
  },
  "language_info": {
   "codemirror_mode": {
    "name": "ipython",
    "version": 3
   },
   "file_extension": ".py",
   "mimetype": "text/x-python",
   "name": "python",
   "nbconvert_exporter": "python",
   "pygments_lexer": "ipython3",
   "version": "3.9.12"
  }
 },
 "nbformat": 4,
 "nbformat_minor": 5
}
