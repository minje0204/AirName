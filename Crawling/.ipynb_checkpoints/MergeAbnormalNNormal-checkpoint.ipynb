{
 "cells": [
  {
   "cell_type": "code",
   "execution_count": 59,
   "id": "00d4c9b0-b910-4d47-8b3a-98eeaf2667d3",
   "metadata": {},
   "outputs": [],
   "source": [
    "import numpy as np \n",
    "import pandas as pd \n",
    "import matplotlib\n",
    "import matplotlib.pyplot as plt \n",
    "\n",
    "df = pd.read_csv('name_state.csv')"
   ]
  },
  {
   "cell_type": "markdown",
   "id": "0974cfd9-325a-408f-aafb-1ec7b11f7aed",
   "metadata": {
    "tags": []
   },
   "source": [
    "### 1) 전체 데이터"
   ]
  },
  {
   "cell_type": "code",
   "execution_count": 29,
   "id": "aa89cb44-2408-4dd5-8f8d-5e19143a994c",
   "metadata": {},
   "outputs": [
    {
     "data": {
      "text/html": [
       "<div>\n",
       "<style scoped>\n",
       "    .dataframe tbody tr th:only-of-type {\n",
       "        vertical-align: middle;\n",
       "    }\n",
       "\n",
       "    .dataframe tbody tr th {\n",
       "        vertical-align: top;\n",
       "    }\n",
       "\n",
       "    .dataframe thead th {\n",
       "        text-align: right;\n",
       "    }\n",
       "</style>\n",
       "<table border=\"1\" class=\"dataframe\">\n",
       "  <thead>\n",
       "    <tr style=\"text-align: right;\">\n",
       "      <th></th>\n",
       "      <th>Unnamed: 0</th>\n",
       "      <th>state</th>\n",
       "      <th>gender</th>\n",
       "      <th>year</th>\n",
       "      <th>name</th>\n",
       "      <th>count</th>\n",
       "    </tr>\n",
       "  </thead>\n",
       "  <tbody>\n",
       "    <tr>\n",
       "      <th>0</th>\n",
       "      <td>0</td>\n",
       "      <td>AK</td>\n",
       "      <td>F</td>\n",
       "      <td>1910</td>\n",
       "      <td>Mary</td>\n",
       "      <td>14</td>\n",
       "    </tr>\n",
       "    <tr>\n",
       "      <th>1</th>\n",
       "      <td>1</td>\n",
       "      <td>AK</td>\n",
       "      <td>F</td>\n",
       "      <td>1910</td>\n",
       "      <td>Annie</td>\n",
       "      <td>12</td>\n",
       "    </tr>\n",
       "    <tr>\n",
       "      <th>2</th>\n",
       "      <td>2</td>\n",
       "      <td>AK</td>\n",
       "      <td>F</td>\n",
       "      <td>1910</td>\n",
       "      <td>Anna</td>\n",
       "      <td>10</td>\n",
       "    </tr>\n",
       "    <tr>\n",
       "      <th>3</th>\n",
       "      <td>3</td>\n",
       "      <td>AK</td>\n",
       "      <td>F</td>\n",
       "      <td>1910</td>\n",
       "      <td>Margaret</td>\n",
       "      <td>8</td>\n",
       "    </tr>\n",
       "    <tr>\n",
       "      <th>4</th>\n",
       "      <td>4</td>\n",
       "      <td>AK</td>\n",
       "      <td>F</td>\n",
       "      <td>1910</td>\n",
       "      <td>Helen</td>\n",
       "      <td>7</td>\n",
       "    </tr>\n",
       "    <tr>\n",
       "      <th>...</th>\n",
       "      <td>...</td>\n",
       "      <td>...</td>\n",
       "      <td>...</td>\n",
       "      <td>...</td>\n",
       "      <td>...</td>\n",
       "      <td>...</td>\n",
       "    </tr>\n",
       "    <tr>\n",
       "      <th>6311499</th>\n",
       "      <td>6311499</td>\n",
       "      <td>WY</td>\n",
       "      <td>M</td>\n",
       "      <td>2021</td>\n",
       "      <td>Santiago</td>\n",
       "      <td>5</td>\n",
       "    </tr>\n",
       "    <tr>\n",
       "      <th>6311500</th>\n",
       "      <td>6311500</td>\n",
       "      <td>WY</td>\n",
       "      <td>M</td>\n",
       "      <td>2021</td>\n",
       "      <td>Spencer</td>\n",
       "      <td>5</td>\n",
       "    </tr>\n",
       "    <tr>\n",
       "      <th>6311501</th>\n",
       "      <td>6311501</td>\n",
       "      <td>WY</td>\n",
       "      <td>M</td>\n",
       "      <td>2021</td>\n",
       "      <td>Tate</td>\n",
       "      <td>5</td>\n",
       "    </tr>\n",
       "    <tr>\n",
       "      <th>6311502</th>\n",
       "      <td>6311502</td>\n",
       "      <td>WY</td>\n",
       "      <td>M</td>\n",
       "      <td>2021</td>\n",
       "      <td>Timothy</td>\n",
       "      <td>5</td>\n",
       "    </tr>\n",
       "    <tr>\n",
       "      <th>6311503</th>\n",
       "      <td>6311503</td>\n",
       "      <td>WY</td>\n",
       "      <td>M</td>\n",
       "      <td>2021</td>\n",
       "      <td>Tucker</td>\n",
       "      <td>5</td>\n",
       "    </tr>\n",
       "  </tbody>\n",
       "</table>\n",
       "<p>6311504 rows × 6 columns</p>\n",
       "</div>"
      ],
      "text/plain": [
       "         Unnamed: 0 state gender  year      name  count\n",
       "0                 0    AK      F  1910      Mary     14\n",
       "1                 1    AK      F  1910     Annie     12\n",
       "2                 2    AK      F  1910      Anna     10\n",
       "3                 3    AK      F  1910  Margaret      8\n",
       "4                 4    AK      F  1910     Helen      7\n",
       "...             ...   ...    ...   ...       ...    ...\n",
       "6311499     6311499    WY      M  2021  Santiago      5\n",
       "6311500     6311500    WY      M  2021   Spencer      5\n",
       "6311501     6311501    WY      M  2021      Tate      5\n",
       "6311502     6311502    WY      M  2021   Timothy      5\n",
       "6311503     6311503    WY      M  2021    Tucker      5\n",
       "\n",
       "[6311504 rows x 6 columns]"
      ]
     },
     "execution_count": 29,
     "metadata": {},
     "output_type": "execute_result"
    }
   ],
   "source": [
    "df"
   ]
  },
  {
   "cell_type": "markdown",
   "id": "114077e4-55fe-4412-b8aa-5be0e9c43ccf",
   "metadata": {
    "jp-MarkdownHeadingCollapsed": true,
    "tags": []
   },
   "source": [
    "### 2) 데이터 유효성 검사"
   ]
  },
  {
   "cell_type": "code",
   "execution_count": 28,
   "id": "66253102-44bf-49c8-95d3-c05a622804ad",
   "metadata": {},
   "outputs": [
    {
     "data": {
      "text/plain": [
       "False"
      ]
     },
     "execution_count": 28,
     "metadata": {},
     "output_type": "execute_result"
    }
   ],
   "source": [
    "df.isnull().values.any()"
   ]
  },
  {
   "cell_type": "code",
   "execution_count": 27,
   "id": "b718859c-8990-4f44-beb7-5d1a23d93ddf",
   "metadata": {},
   "outputs": [
    {
     "data": {
      "text/plain": [
       "False"
      ]
     },
     "execution_count": 27,
     "metadata": {},
     "output_type": "execute_result"
    }
   ],
   "source": [
    "df.isnull().values.any()"
   ]
  },
  {
   "cell_type": "code",
   "execution_count": null,
   "id": "0268b0a4-b199-48d0-b39a-f6d19a2e2e20",
   "metadata": {},
   "outputs": [],
   "source": []
  },
  {
   "cell_type": "markdown",
   "id": "d70b2de3-77a9-4784-b9e5-4a781185ba41",
   "metadata": {},
   "source": [
    "### 3) 주 별 이름 개수"
   ]
  },
  {
   "cell_type": "code",
   "execution_count": 25,
   "id": "81868d0a-79c3-4e29-b8c3-a5c6bab761ca",
   "metadata": {},
   "outputs": [
    {
     "data": {
      "text/plain": [
       "<AxesSubplot:xlabel='state'>"
      ]
     },
     "execution_count": 25,
     "metadata": {},
     "output_type": "execute_result"
    },
    {
     "data": {
      "image/png": "[encoded data removed]",
      "text/plain": [
       "<Figure size 1440x360 with 1 Axes>"
      ]
     },
     "metadata": {
      "needs_background": "light"
     },
     "output_type": "display_data"
    }
   ],
   "source": [
    "plt.figure(figsize = (20,5))\n",
    "df.groupby('state')['state'].count().plot.bar()"
   ]
  },
  {
   "cell_type": "markdown",
   "id": "28def784-1205-418b-b0f6-af7886543b18",
   "metadata": {},
   "source": [
    "### 4) 남녀 성비"
   ]
  },
  {
   "cell_type": "code",
   "execution_count": 41,
   "id": "8ed8ee48-8985-499e-af39-9e04a2843d05",
   "metadata": {},
   "outputs": [
    {
     "data": {
      "text/plain": [
       "<AxesSubplot:xlabel='gender'>"
      ]
     },
     "execution_count": 41,
     "metadata": {},
     "output_type": "execute_result"
    },
    {
     "data": {
      "image/png": "[encoded data removed]",
      "text/plain": [
       "<Figure size 432x288 with 1 Axes>"
      ]
     },
     "metadata": {
      "needs_background": "light"
     },
     "output_type": "display_data"
    }
   ],
   "source": [
    "plt.ticklabel_format(style='plain')\n",
    "df.groupby('gender')['gender'].count().plot.bar()\n"
   ]
  },
  {
   "cell_type": "code",
   "execution_count": 44,
   "id": "dbdd9450-c3fd-4f2e-824b-9149a32de840",
   "metadata": {},
   "outputs": [
    {
     "data": {
      "text/plain": [
       "32403"
      ]
     },
     "execution_count": 44,
     "metadata": {},
     "output_type": "execute_result"
    }
   ],
   "source": [
    "df['name'].drop_duplicates().size"
   ]
  },
  {
   "cell_type": "code",
   "execution_count": 66,
   "id": "f5ac2992-99d6-456a-96a9-0a2f29ef76e9",
   "metadata": {},
   "outputs": [
    {
     "data": {
      "text/html": [
       "<div>\n",
       "<style scoped>\n",
       "    .dataframe tbody tr th:only-of-type {\n",
       "        vertical-align: middle;\n",
       "    }\n",
       "\n",
       "    .dataframe tbody tr th {\n",
       "        vertical-align: top;\n",
       "    }\n",
       "\n",
       "    .dataframe thead th {\n",
       "        text-align: right;\n",
       "    }\n",
       "</style>\n",
       "<table border=\"1\" class=\"dataframe\">\n",
       "  <thead>\n",
       "    <tr style=\"text-align: right;\">\n",
       "      <th></th>\n",
       "      <th>labels</th>\n",
       "      <th>values</th>\n",
       "    </tr>\n",
       "  </thead>\n",
       "  <tbody>\n",
       "    <tr>\n",
       "      <th>0</th>\n",
       "      <td>5</td>\n",
       "      <td>812465</td>\n",
       "    </tr>\n",
       "    <tr>\n",
       "      <th>1</th>\n",
       "      <td>6</td>\n",
       "      <td>591485</td>\n",
       "    </tr>\n",
       "    <tr>\n",
       "      <th>2</th>\n",
       "      <td>7</td>\n",
       "      <td>453738</td>\n",
       "    </tr>\n",
       "    <tr>\n",
       "      <th>3</th>\n",
       "      <td>8</td>\n",
       "      <td>362928</td>\n",
       "    </tr>\n",
       "    <tr>\n",
       "      <th>4</th>\n",
       "      <td>9</td>\n",
       "      <td>297807</td>\n",
       "    </tr>\n",
       "    <tr>\n",
       "      <th>...</th>\n",
       "      <td>...</td>\n",
       "      <td>...</td>\n",
       "    </tr>\n",
       "    <tr>\n",
       "      <th>4933</th>\n",
       "      <td>3020</td>\n",
       "      <td>1</td>\n",
       "    </tr>\n",
       "    <tr>\n",
       "      <th>4934</th>\n",
       "      <td>3622</td>\n",
       "      <td>1</td>\n",
       "    </tr>\n",
       "    <tr>\n",
       "      <th>4935</th>\n",
       "      <td>4065</td>\n",
       "      <td>1</td>\n",
       "    </tr>\n",
       "    <tr>\n",
       "      <th>4936</th>\n",
       "      <td>3662</td>\n",
       "      <td>1</td>\n",
       "    </tr>\n",
       "    <tr>\n",
       "      <th>4937</th>\n",
       "      <td>4055</td>\n",
       "      <td>1</td>\n",
       "    </tr>\n",
       "  </tbody>\n",
       "</table>\n",
       "<p>4938 rows × 2 columns</p>\n",
       "</div>"
      ],
      "text/plain": [
       "      labels  values\n",
       "0          5  812465\n",
       "1          6  591485\n",
       "2          7  453738\n",
       "3          8  362928\n",
       "4          9  297807\n",
       "...      ...     ...\n",
       "4933    3020       1\n",
       "4934    3622       1\n",
       "4935    4065       1\n",
       "4936    3662       1\n",
       "4937    4055       1\n",
       "\n",
       "[4938 rows x 2 columns]"
      ]
     },
     "execution_count": 66,
     "metadata": {},
     "output_type": "execute_result"
    }
   ],
   "source": [
    "temp = df['count'].value_counts()\n",
    "dd = pd.DataFrame({'labels': temp.index,\n",
    "                   'values': temp.values\n",
    "                  })\n",
    "\n",
    "dd"
   ]
  },
  {
   "cell_type": "code",
   "execution_count": null,
   "id": "a8f443a0-cd1c-41f5-8028-404f6f978203",
   "metadata": {},
   "outputs": [],
   "source": []
  }
 ],
 "metadata": {
  "kernelspec": {
   "display_name": "Python 3 (ipykernel)",
   "language": "python",
   "name": "python3"
  },
  "language_info": {
   "codemirror_mode": {
    "name": "ipython",
    "version": 3
   },
   "file_extension": ".py",
   "mimetype": "text/x-python",
   "name": "python",
   "nbconvert_exporter": "python",
   "pygments_lexer": "ipython3",
   "version": "3.9.12"
  }
 },
 "nbformat": 4,
 "nbformat_minor": 5
}
