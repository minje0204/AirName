{
 "cells": [
  {
   "cell_type": "markdown",
   "id": "a2d95b0b-ec7e-4908-bfe8-3d5ccdd06218",
   "metadata": {},
   "source": [
    "## 1. Normal 데이터 구조 변경 \n",
    "\n",
    "- mvpNameSet_normal.json to mvpNameSet_normal_changed_structure.json\n",
    "\n"
   ]
  },
  {
   "cell_type": "code",
   "execution_count": 5,
   "id": "00d4c9b0-b910-4d47-8b3a-98eeaf2667d3",
   "metadata": {},
   "outputs": [],
   "source": [
    "import numpy as np \n",
    "import pandas as pd \n",
    "import json\n",
    "\n",
    "\n",
    "def ChangeStructure():\n",
    "    with open('mvpNameSet_normal.json', 'r') as f:\n",
    "        nameSet = json.load(f)\n",
    "    \n",
    "    normalData=[]\n",
    "    for name in nameSet:\n",
    "        n = {}\n",
    "        n['name'] = name['name']\n",
    "        n['female']={}\n",
    "        n['male']={}\n",
    "        if name['gender'] =='F' or name['gender']=='U':\n",
    "            n['female']['usage']=name['usage']\n",
    "            n['female']['meaning']=name['meaning']\n",
    "            n['female']['attribute']=name['attribute']\n",
    "        if name['gender'] =='M' or name['gender']=='U':\n",
    "            n['male']['usage']=name['usage']\n",
    "            n['male']['meaning']=name['meaning']\n",
    "            n['male']['attribute']=name['attribute']\n",
    "        normalData.append(n)\n",
    "    \n",
    "    fileName = \"mvpNameSet_normal_changed_structure.json\"\n",
    "    file = open(fileName, \"w\")\n",
    "    json.dump(normalData, file)\n",
    "    file.close()\n",
    "    \n",
    "\n",
    "if __name__ == '__main__':\n",
    "    ChangeStructure()\n"
   ]
  },
  {
   "cell_type": "markdown",
   "id": "56428efb-d189-4ade-9128-12b5366c0a89",
   "metadata": {
    "tags": []
   },
   "source": [
    "## 2.데이터 바꾸기 전 vs 데이터 바꾼 후 검증\n",
    "\n",
    "- 여성, 중성, 남성의 데이터 갯수가 같은지 확인"
   ]
  },
  {
   "cell_type": "code",
   "execution_count": 46,
   "id": "4781cf79-701c-4eea-bfb3-739855b43caf",
   "metadata": {},
   "outputs": [
    {
     "name": "stdout",
     "output_type": "stream",
     "text": [
      "중성\n",
      "True\n",
      "여성\n",
      "True\n",
      "남성\n",
      "True\n"
     ]
    }
   ],
   "source": [
    "import numpy as np \n",
    "import pandas as pd \n",
    "import json\n",
    "\n",
    "with open('mvpNameSet_normal.json') as f:\n",
    "    js = json.loads(f.read())\n",
    "unChangedNormal = pd.DataFrame(js)\n",
    "\n",
    "with open('mvpNameSet_normal_changed_structure.json') as f:\n",
    "    js = json.loads(f.read())\n",
    "    \n",
    "changedNormal = pd.DataFrame(js)\n",
    "\n",
    "isMale = changedNormal['male'] != {}\n",
    "isFemale = changedNormal['female'] != {}\n",
    "isNotMale = changedNormal['male'] == {}\n",
    "isNotFemale = changedNormal['female'] == {}\n",
    "\n",
    "print(\"중성\")\n",
    "print(len(changedNormal[isFemale & isMale]) == len(unChangedNormal[unChangedNormal['gender'].str.contains('U')]))\n",
    "print(\"여성\")\n",
    "print(len(changedNormal[isFemale & isNotMale]) == len(unChangedNormal[unChangedNormal['gender'].str.contains('F')]))\n",
    "print(\"남성\")\n",
    "print(len(changedNormal[isNotFemale & isMale]) == len(unChangedNormal[unChangedNormal['gender'].str.contains('M')]))\n",
    "# unChangedNormal[unChangedNormal['gender'].str.contains('F')].drop_duplicates('name')\n",
    "# changedNormal[normal['male']!={}]\n",
    "\n",
    "# unChangedNormal[unChangedNormal['gender'].str.contains('M')]"
   ]
  },
  {
   "cell_type": "code",
   "execution_count": null,
   "id": "6d5a3714-4380-4e92-ae56-887ae5d5b754",
   "metadata": {},
   "outputs": [],
   "source": []
  }
 ],
 "metadata": {
  "kernelspec": {
   "display_name": "Python 3 (ipykernel)",
   "language": "python",
   "name": "python3"
  },
  "language_info": {
   "codemirror_mode": {
    "name": "ipython",
    "version": 3
   },
   "file_extension": ".py",
   "mimetype": "text/x-python",
   "name": "python",
   "nbconvert_exporter": "python",
   "pygments_lexer": "ipython3",
   "version": "3.9.12"
  }
 },
 "nbformat": 4,
 "nbformat_minor": 5
}
